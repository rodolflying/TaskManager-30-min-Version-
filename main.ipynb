{
 "cells": [
  {
   "cell_type": "code",
   "execution_count": 1,
   "metadata": {},
   "outputs": [
    {
     "name": "stdout",
     "output_type": "stream",
     "text": [
      "Task time:  2023-09-06 01:10:00\n"
     ]
    }
   ],
   "source": [
    "import pandas as pd\n",
    "import datetime\n",
    "import time\n",
    "import tkinter as tk\n",
    "from tkinter import messagebox\n",
    "import schedule\n",
    "\n",
    "def read_tasks():\n",
    "    df = pd.read_csv('tasks.csv', parse_dates=[['date', 'time']])\n",
    "    return df\n",
    "\n",
    "def show_alert(task):\n",
    "    root = tk.Tk()\n",
    "    root.withdraw()  # Hide the main window\n",
    "    response = messagebox.askyesno(\"Task Alert\", f\"Do you want to work on the task \\\"{task['name']}\\\" now?\")\n",
    "    if response:\n",
    "        # Here you can add code to mark the task as completed if it's automated\n",
    "        pass\n",
    "    root.destroy()\n",
    "\n",
    "def execute_tasks():\n",
    "    tasks = read_tasks()\n",
    "    tasks = tasks.sort_values(by='date_time')  # Sort tasks by date and time\n",
    "    now = datetime.datetime.now()\n",
    "    \n",
    "    for index, task in tasks.iterrows():\n",
    "        task_time = task['date_time'].to_pydatetime()\n",
    "        print(\"Task time: \", task_time)\n",
    "        if now <= task_time:\n",
    "            \n",
    "            seconds_until_task = (task_time - now).total_seconds()\n",
    "            print(\"Waiting for task time...\", seconds_until_task, \" seconds\")\n",
    "            time.sleep(seconds_until_task)\n",
    "        print(\"Executing task...\")\n",
    "        show_alert(task)\n",
    "        print(\"Task executed!\")\n",
    "\n",
    "# Schedule the task execution\n",
    "schedule.every().day.at(\"01:41:00\").do(execute_tasks)\n",
    "\n",
    "while True:\n",
    "    schedule.run_pending()\n",
    "    time.sleep(1)\n",
    "\n",
    "\n",
    "\n"
   ]
  }
 ],
 "metadata": {
  "kernelspec": {
   "display_name": "Python 3",
   "language": "python",
   "name": "python3"
  },
  "language_info": {
   "codemirror_mode": {
    "name": "ipython",
    "version": 3
   },
   "file_extension": ".py",
   "mimetype": "text/x-python",
   "name": "python",
   "nbconvert_exporter": "python",
   "pygments_lexer": "ipython3",
   "version": "3.10.0"
  },
  "orig_nbformat": 4
 },
 "nbformat": 4,
 "nbformat_minor": 2
}
